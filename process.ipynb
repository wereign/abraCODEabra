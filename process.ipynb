{
 "cells": [
  {
   "cell_type": "code",
   "execution_count": 1,
   "metadata": {},
   "outputs": [],
   "source": [
    "import random\n",
    "import pandas as pd\n",
    "from names_dataset import NameDataset\n"
   ]
  },
  {
   "cell_type": "code",
   "execution_count": 2,
   "metadata": {},
   "outputs": [],
   "source": [
    "nd = NameDataset()"
   ]
  },
  {
   "cell_type": "code",
   "execution_count": 21,
   "metadata": {},
   "outputs": [
    {
     "name": "stdout",
     "output_type": "stream",
     "text": [
      "{'US': {'M': ['Jose', 'David', 'Michael', 'John', 'Juan', 'Carlos', 'Luis', 'Chris', 'Alex', 'Daniel'], 'F': ['Maria', 'Mary', 'Jennifer', 'Jessica', 'Michelle', 'Lisa', 'Sarah', 'Ana', 'Elizabeth', 'Laura']}}\n"
     ]
    }
   ],
   "source": [
    "print(nd.get_top_names(n=10, country_alpha2='US', use_first_names=True))"
   ]
  },
  {
   "cell_type": "code",
   "execution_count": 19,
   "metadata": {},
   "outputs": [],
   "source": [
    "us_d = nd.get_top_names(n=2000, country_alpha2='US', use_first_names=True)\n",
    "us_d1 = nd.get_top_names(n=2000, country_alpha2='US', use_first_names=False)\n",
    "uk_d = nd.get_top_names(n=2000, country_alpha2='GB', use_first_names=True)\n",
    "uk_d1 = nd.get_top_names(n=2000, country_alpha2='GB', use_first_names=False)"
   ]
  },
  {
   "cell_type": "code",
   "execution_count": 20,
   "metadata": {},
   "outputs": [
    {
     "name": "stdout",
     "output_type": "stream",
     "text": [
      "6132 2457\n"
     ]
    }
   ],
   "source": [
    "first_names,last_names=[],[]\n",
    "first_names.extend(us_d['US']['M'])\n",
    "first_names.extend(us_d['US']['F'])\n",
    "first_names.extend(uk_d['GB']['M'])\n",
    "first_names.extend(uk_d['GB']['F'])\n",
    "first_names = set(first_names)\n",
    "\n",
    "\n",
    "\n",
    "last_names.extend(us_d1['US'])\n",
    "last_names.extend(uk_d1['GB'])\n",
    "last_names = set(last_names)\n",
    "last_names = last_names - first_names\n",
    "\n",
    "print(len(first_names), len(last_names))"
   ]
  },
  {
   "cell_type": "code",
   "execution_count": null,
   "metadata": {},
   "outputs": [],
   "source": [
    "# names=['james','mary','robert','patricia','john','jennifer','michael','linda','william','elizabeth','david','barbara','richard','susan','joseph','jessica','thomas','sarah','charles','karen']\n",
    "# surnames=['james','robert','john','michael','william','david','richard','joseph','thomas','charles']\n",
    "# new_names=[names[random.randint(0,len(names)-1)]+' '+surnames[random.randint(0,len(surnames)-1)] for x in range(10000)]\n",
    "# new=[]\n",
    "# for item in new_names:\n",
    "#     if item not in new:\n",
    "#         new.append(item)\n",
    "# print(len(new),len(names),len(surnames))\n"
   ]
  },
  {
   "cell_type": "code",
   "execution_count": 25,
   "metadata": {},
   "outputs": [
    {
     "name": "stdout",
     "output_type": "stream",
     "text": [
      "20983\n"
     ]
    }
   ],
   "source": [
    "first_names,last_names = list(first_names), list(last_names)\n",
    "new_names=set([first_names[random.randint(0,len(first_names)-1)]+' '+last_names[random.randint(0,len(last_names)-1)] for x in range(21000)])\n",
    "print(len(new_names))"
   ]
  },
  {
   "cell_type": "code",
   "execution_count": 28,
   "metadata": {},
   "outputs": [],
   "source": [
    "# newer={}\n",
    "# newer['name']=new_names\n",
    "new_names=list(new_names)\n",
    "ages=[]\n",
    "boolean=[True,False]\n",
    "boolean_value=[]\n",
    "recipients = []\n",
    "for count in range(len(new_names)):\n",
    "    age=random.randint(18,95)\n",
    "    ages.append(age)\n",
    "    booleans=random.choice(['True','False'])\n",
    "    boolean_value.append(booleans)\n",
    "    recips=random.choice(['True','False'])\n",
    "    recipients.append(recips)\n",
    "\n",
    "# newer['age']=ages\n",
    "# newer['bpl']=boolean_value\n"
   ]
  },
  {
   "cell_type": "code",
   "execution_count": 31,
   "metadata": {},
   "outputs": [
    {
     "data": {
      "text/html": [
       "<div>\n",
       "<style scoped>\n",
       "    .dataframe tbody tr th:only-of-type {\n",
       "        vertical-align: middle;\n",
       "    }\n",
       "\n",
       "    .dataframe tbody tr th {\n",
       "        vertical-align: top;\n",
       "    }\n",
       "\n",
       "    .dataframe thead th {\n",
       "        text-align: right;\n",
       "    }\n",
       "</style>\n",
       "<table border=\"1\" class=\"dataframe\">\n",
       "  <thead>\n",
       "    <tr style=\"text-align: right;\">\n",
       "      <th></th>\n",
       "      <th>name</th>\n",
       "      <th>age</th>\n",
       "      <th>bpl</th>\n",
       "      <th>recipients</th>\n",
       "    </tr>\n",
       "  </thead>\n",
       "  <tbody>\n",
       "    <tr>\n",
       "      <th>0</th>\n",
       "      <td>Larissa Sandoval</td>\n",
       "      <td>42</td>\n",
       "      <td>True</td>\n",
       "      <td>False</td>\n",
       "    </tr>\n",
       "    <tr>\n",
       "      <th>1</th>\n",
       "      <td>Leanna Doyle</td>\n",
       "      <td>50</td>\n",
       "      <td>True</td>\n",
       "      <td>True</td>\n",
       "    </tr>\n",
       "    <tr>\n",
       "      <th>2</th>\n",
       "      <td>Dicky Borges</td>\n",
       "      <td>56</td>\n",
       "      <td>True</td>\n",
       "      <td>True</td>\n",
       "    </tr>\n",
       "    <tr>\n",
       "      <th>3</th>\n",
       "      <td>Princess Chavarria</td>\n",
       "      <td>20</td>\n",
       "      <td>True</td>\n",
       "      <td>True</td>\n",
       "    </tr>\n",
       "    <tr>\n",
       "      <th>4</th>\n",
       "      <td>Velma Hart</td>\n",
       "      <td>82</td>\n",
       "      <td>True</td>\n",
       "      <td>False</td>\n",
       "    </tr>\n",
       "  </tbody>\n",
       "</table>\n",
       "</div>"
      ],
      "text/plain": [
       "                 name  age   bpl recipients\n",
       "0    Larissa Sandoval   42  True      False\n",
       "1        Leanna Doyle   50  True       True\n",
       "2        Dicky Borges   56  True       True\n",
       "3  Princess Chavarria   20  True       True\n",
       "4          Velma Hart   82  True      False"
      ]
     },
     "execution_count": 31,
     "metadata": {},
     "output_type": "execute_result"
    }
   ],
   "source": [
    "df = pd.DataFrame()\n",
    "\n",
    "df['name']=new_names\n",
    "df['age']=ages\n",
    "df['bpl']=boolean_value\n",
    "df['recipients']=recipients\n",
    "\n",
    "df.head()"
   ]
  },
  {
   "cell_type": "code",
   "execution_count": 32,
   "metadata": {},
   "outputs": [],
   "source": [
    "df.to_csv('dummy_dataset.csv', index=False)"
   ]
  }
 ],
 "metadata": {
  "interpreter": {
   "hash": "d48831b631dc8b45805e00040c21997c4859e99f0719f923343a7b28771b6237"
  },
  "kernelspec": {
   "display_name": "Python 3.10.4 64-bit",
   "language": "python",
   "name": "python3"
  },
  "language_info": {
   "codemirror_mode": {
    "name": "ipython",
    "version": 3
   },
   "file_extension": ".py",
   "mimetype": "text/x-python",
   "name": "python",
   "nbconvert_exporter": "python",
   "pygments_lexer": "ipython3",
   "version": "3.10.4"
  },
  "orig_nbformat": 4
 },
 "nbformat": 4,
 "nbformat_minor": 2
}
